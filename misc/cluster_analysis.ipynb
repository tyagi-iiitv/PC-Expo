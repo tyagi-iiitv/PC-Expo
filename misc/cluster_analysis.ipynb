{
 "cells": [
  {
   "cell_type": "code",
   "execution_count": 14,
   "metadata": {},
   "outputs": [],
   "source": [
    "import seaborn as sns\n",
    "import pandas as pd\n",
    "import numpy as np\n",
    "import scipy\n",
    "from tqdm.notebook import tqdm, trange\n",
    "sns.set_theme(style=\"ticks\")\n",
    "\n",
    "df = sns.load_dataset(\"penguins\")\n",
    "# sns.pairplot(df, hue=\"species\")"
   ]
  },
  {
   "cell_type": "code",
   "execution_count": 15,
   "metadata": {},
   "outputs": [],
   "source": [
    "df = df.dropna()"
   ]
  },
  {
   "cell_type": "code",
   "execution_count": 16,
   "metadata": {},
   "outputs": [],
   "source": [
    "numerics = ['int16', 'int32', 'int64', 'float16', 'float32', 'float64']\n",
    "\n",
    "num_df = df.select_dtypes(include=numerics)"
   ]
  },
  {
   "cell_type": "code",
   "execution_count": 17,
   "metadata": {},
   "outputs": [
    {
     "data": {
      "text/plain": [
       "<bound method NDFrame.to_json of      bill_length_mm  bill_depth_mm  flipper_length_mm  body_mass_g\n",
       "0              39.1           18.7              181.0       3750.0\n",
       "1              39.5           17.4              186.0       3800.0\n",
       "2              40.3           18.0              195.0       3250.0\n",
       "4              36.7           19.3              193.0       3450.0\n",
       "5              39.3           20.6              190.0       3650.0\n",
       "..              ...            ...                ...          ...\n",
       "338            47.2           13.7              214.0       4925.0\n",
       "340            46.8           14.3              215.0       4850.0\n",
       "341            50.4           15.7              222.0       5750.0\n",
       "342            45.2           14.8              212.0       5200.0\n",
       "343            49.9           16.1              213.0       5400.0\n",
       "\n",
       "[333 rows x 4 columns]>"
      ]
     },
     "execution_count": 17,
     "metadata": {},
     "output_type": "execute_result"
    }
   ],
   "source": [
    "num_df.to_json"
   ]
  },
  {
   "cell_type": "code",
   "execution_count": 18,
   "metadata": {},
   "outputs": [],
   "source": [
    "scatter = df[['bill_length_mm', 'bill_depth_mm']]"
   ]
  },
  {
   "cell_type": "code",
   "execution_count": 19,
   "metadata": {},
   "outputs": [
    {
     "name": "stderr",
     "output_type": "stream",
     "text": [
      "C:\\ProgramData\\Anaconda3\\lib\\site-packages\\seaborn\\_decorators.py:36: FutureWarning: Pass the following variables as keyword args: x, y. From version 0.12, the only valid positional argument will be `data`, and passing other arguments without an explicit keyword will result in an error or misinterpretation.\n",
      "  warnings.warn(\n"
     ]
    },
    {
     "data": {
      "text/plain": [
       "<AxesSubplot:xlabel='bill_depth_mm', ylabel='bill_length_mm'>"
      ]
     },
     "execution_count": 19,
     "metadata": {},
     "output_type": "execute_result"
    },
    {
     "data": {
      "image/png": "[encoded data removed]",
      "text/plain": [
       "<Figure size 432x288 with 1 Axes>"
      ]
     },
     "metadata": {},
     "output_type": "display_data"
    }
   ],
   "source": [
    "sns.scatterplot(scatter['bill_depth_mm'], scatter['bill_length_mm'])"
   ]
  },
  {
   "cell_type": "code",
   "execution_count": 14,
   "metadata": {},
   "outputs": [],
   "source": [
    "from sklearn.cluster import KMeans, DBSCAN\n",
    "from sklearn.metrics import silhouette_samples, silhouette_score\n",
    "\n",
    "def get_best_cluster_labels(cur_pts):\n",
    "    data = scatter.iloc[cur_pts]\n",
    "    scores_2d = -1\n",
    "    scores_x = -1\n",
    "    scores_y = -1\n",
    "    labels_2d, labels_x, labels_y = [0], [0], [0]\n",
    "    best_2d, best_x, best_y = 0,0,0\n",
    "    for n_clusters in [2,3,4,5,6]:\n",
    "        clusterer = KMeans(n_clusters=n_clusters, random_state=10)\n",
    "        try:\n",
    "            cur_labels_2d = clusterer.fit_predict(data)\n",
    "            cur_labels_x = clusterer.fit_predict(np.array(data['bill_depth_mm']).reshape(-1,1))\n",
    "            cur_labels_y = clusterer.fit_predict(np.array(data['bill_length_mm']).reshape(-1,1))\n",
    "            cur_score_2d = silhouette_score(data, cur_labels_2d)\n",
    "            cur_score_x = silhouette_score(np.array(data['bill_depth_mm']).reshape(-1,1), \n",
    "                                           cur_labels_x)\n",
    "            cur_score_y = silhouette_score(np.array(data['bill_length_mm']).reshape(-1,1), \n",
    "                                       cur_labels_y)\n",
    "        except ValueError:\n",
    "            cur_score_2d = -1\n",
    "            cur_score_x = -1\n",
    "            cur_score_y = -1\n",
    "\n",
    "        if cur_score_2d > scores_2d:\n",
    "            scores_2d = cur_score_2d\n",
    "            labels_2d = cur_labels_2d\n",
    "            best_2d = n_clusters\n",
    "        if cur_score_x > scores_x:\n",
    "            scores_x = cur_score_x\n",
    "            labels_x = cur_labels_x\n",
    "            best_x = n_clusters\n",
    "        if cur_score_y > scores_y:\n",
    "            scores_y = cur_score_y\n",
    "            labels_y = cur_labels_y\n",
    "            best_y = n_clusters\n",
    "    return labels_2d, labels_x, labels_y, best_2d, best_x, best_y"
   ]
  },
  {
   "cell_type": "markdown",
   "metadata": {},
   "source": [
    "Important points\n",
    "- All the properties are independent of each other\n",
    "- Each point can have multiple properties\n",
    "\n",
    "Algorithm initial steps\n",
    "- Make the clusters very small for effective functioning of the detectors\n",
    "\n",
    "PCP marginal clusters\n",
    "\n",
    "- All the points are in same clusters (neighborhood)\n",
    "    - Set Difference is zero\n",
    "- Density of a cluster changes in the other axis (density change)\n",
    "- Points split up into multiple clusters (Split up)\n",
    "    - Default every point is marked split up\n",
    "- Small cluster in one axis become many different clusters on the other axis with higher density (Fan)\n",
    "- Evenly spread in both axis (Clutter)\n",
    "\n",
    "PCP scatterplot clusters\n",
    "- Outlier detection\n",
    "- correlation\n",
    "- variance\n",
    "- skewness\n",
    "- clear grouping"
   ]
  },
  {
   "cell_type": "code",
   "execution_count": 15,
   "metadata": {},
   "outputs": [],
   "source": [
    "def neighborhood(cl_1, cl_2):\n",
    "    if set(cl_1) - set(cl_2) == set():\n",
    "        return True\n",
    "    return False"
   ]
  },
  {
   "cell_type": "code",
   "execution_count": 7,
   "metadata": {},
   "outputs": [],
   "source": [
    "window_size = 2"
   ]
  },
  {
   "cell_type": "code",
   "execution_count": 8,
   "metadata": {},
   "outputs": [],
   "source": [
    "x_pts = np.linspace(scatter.bill_length_mm.min(), scatter.bill_length_mm.max(), 10)\n",
    "y_pts = np.linspace(scatter.bill_depth_mm.min(), scatter.bill_depth_mm.max(), 10)"
   ]
  },
  {
   "cell_type": "code",
   "execution_count": 9,
   "metadata": {},
   "outputs": [],
   "source": [
    "x_range = scatter.bill_length_mm.max() - scatter.bill_length_mm.min()\n",
    "y_range = scatter.bill_depth_mm.max() - scatter.bill_depth_mm.min()"
   ]
  },
  {
   "cell_type": "code",
   "execution_count": 10,
   "metadata": {},
   "outputs": [],
   "source": [
    "# Varying window size option, currently we are using fixed window size\n",
    "# x_windows = np.linspace(x_range/10, x_range, 6)\n",
    "# y_windows = np.linspace(y_range/10, y_range, 6)"
   ]
  },
  {
   "cell_type": "code",
   "execution_count": 11,
   "metadata": {},
   "outputs": [],
   "source": [
    "x_windows = [window_size]\n",
    "y_windows = [window_size]"
   ]
  },
  {
   "cell_type": "code",
   "execution_count": 12,
   "metadata": {},
   "outputs": [],
   "source": [
    "import warnings\n",
    "warnings.filterwarnings('ignore')"
   ]
  },
  {
   "cell_type": "code",
   "execution_count": 23,
   "metadata": {},
   "outputs": [],
   "source": [
    "scatter['labels_2d'] = 0\n",
    "scatter['labels_x'] = 0\n",
    "scatter['labels_y'] = 0\n",
    "scatter['correlation'] = 0\n",
    "scatter['variance'] = 0\n",
    "scatter['skewness'] = 0\n",
    "scatter['neigh'] = False\n",
    "scatter['split_up'] = False\n",
    "scatter['fan'] = False"
   ]
  },
  {
   "cell_type": "markdown",
   "metadata": {
    "jp-MarkdownHeadingCollapsed": true,
    "tags": []
   },
   "source": [
    "## Creating json for the table"
   ]
  },
  {
   "cell_type": "code",
   "execution_count": 36,
   "metadata": {},
   "outputs": [],
   "source": [
    "matrix = scatter[['bill_length_mm', 'bill_depth_mm']]"
   ]
  },
  {
   "cell_type": "code",
   "execution_count": 40,
   "metadata": {},
   "outputs": [
    {
     "data": {
      "text/plain": [
       "'[{\"bill_length_mm\":39.1,\"bill_depth_mm\":18.7},{\"bill_length_mm\":39.5,\"bill_depth_mm\":17.4},{\"bill_length_mm\":40.3,\"bill_depth_mm\":18.0},{\"bill_length_mm\":36.7,\"bill_depth_mm\":19.3},{\"bill_length_mm\":39.3,\"bill_depth_mm\":20.6},{\"bill_length_mm\":38.9,\"bill_depth_mm\":17.8},{\"bill_length_mm\":39.2,\"bill_depth_mm\":19.6},{\"bill_length_mm\":41.1,\"bill_depth_mm\":17.6},{\"bill_length_mm\":38.6,\"bill_depth_mm\":21.2},{\"bill_length_mm\":34.6,\"bill_depth_mm\":21.1},{\"bill_length_mm\":36.6,\"bill_depth_mm\":17.8},{\"bill_length_mm\":38.7,\"bill_depth_mm\":19.0},{\"bill_length_mm\":42.5,\"bill_depth_mm\":20.7},{\"bill_length_mm\":34.4,\"bill_depth_mm\":18.4},{\"bill_length_mm\":46.0,\"bill_depth_mm\":21.5},{\"bill_length_mm\":37.8,\"bill_depth_mm\":18.3},{\"bill_length_mm\":37.7,\"bill_depth_mm\":18.7},{\"bill_length_mm\":35.9,\"bill_depth_mm\":19.2},{\"bill_length_mm\":38.2,\"bill_depth_mm\":18.1},{\"bill_length_mm\":38.8,\"bill_depth_mm\":17.2},{\"bill_length_mm\":35.3,\"bill_depth_mm\":18.9},{\"bill_length_mm\":40.6,\"bill_depth_mm\":18.6},{\"bill_length_mm\":40.5,\"bill_depth_mm\":17.9},{\"bill_length_mm\":37.9,\"bill_depth_mm\":18.6},{\"bill_length_mm\":40.5,\"bill_depth_mm\":18.9},{\"bill_length_mm\":39.5,\"bill_depth_mm\":16.7},{\"bill_length_mm\":37.2,\"bill_depth_mm\":18.1},{\"bill_length_mm\":39.5,\"bill_depth_mm\":17.8},{\"bill_length_mm\":40.9,\"bill_depth_mm\":18.9},{\"bill_length_mm\":36.4,\"bill_depth_mm\":17.0},{\"bill_length_mm\":39.2,\"bill_depth_mm\":21.1},{\"bill_length_mm\":38.8,\"bill_depth_mm\":20.0},{\"bill_length_mm\":42.2,\"bill_depth_mm\":18.5},{\"bill_length_mm\":37.6,\"bill_depth_mm\":19.3},{\"bill_length_mm\":39.8,\"bill_depth_mm\":19.1},{\"bill_length_mm\":36.5,\"bill_depth_mm\":18.0},{\"bill_length_mm\":40.8,\"bill_depth_mm\":18.4},{\"bill_length_mm\":36.0,\"bill_depth_mm\":18.5},{\"bill_length_mm\":44.1,\"bill_depth_mm\":19.7},{\"bill_length_mm\":37.0,\"bill_depth_mm\":16.9},{\"bill_length_mm\":39.6,\"bill_depth_mm\":18.8},{\"bill_length_mm\":41.1,\"bill_depth_mm\":19.0},{\"bill_length_mm\":36.0,\"bill_depth_mm\":17.9},{\"bill_length_mm\":42.3,\"bill_depth_mm\":21.2},{\"bill_length_mm\":39.6,\"bill_depth_mm\":17.7},{\"bill_length_mm\":40.1,\"bill_depth_mm\":18.9},{\"bill_length_mm\":35.0,\"bill_depth_mm\":17.9},{\"bill_length_mm\":42.0,\"bill_depth_mm\":19.5},{\"bill_length_mm\":34.5,\"bill_depth_mm\":18.1},{\"bill_length_mm\":41.4,\"bill_depth_mm\":18.6},{\"bill_length_mm\":39.0,\"bill_depth_mm\":17.5},{\"bill_length_mm\":40.6,\"bill_depth_mm\":18.8},{\"bill_length_mm\":36.5,\"bill_depth_mm\":16.6},{\"bill_length_mm\":37.6,\"bill_depth_mm\":19.1},{\"bill_length_mm\":35.7,\"bill_depth_mm\":16.9},{\"bill_length_mm\":41.3,\"bill_depth_mm\":21.1},{\"bill_length_mm\":37.6,\"bill_depth_mm\":17.0},{\"bill_length_mm\":41.1,\"bill_depth_mm\":18.2},{\"bill_length_mm\":36.4,\"bill_depth_mm\":17.1},{\"bill_length_mm\":41.6,\"bill_depth_mm\":18.0},{\"bill_length_mm\":35.5,\"bill_depth_mm\":16.2},{\"bill_length_mm\":41.1,\"bill_depth_mm\":19.1},{\"bill_length_mm\":35.9,\"bill_depth_mm\":16.6},{\"bill_length_mm\":41.8,\"bill_depth_mm\":19.4},{\"bill_length_mm\":33.5,\"bill_depth_mm\":19.0},{\"bill_length_mm\":39.7,\"bill_depth_mm\":18.4},{\"bill_length_mm\":39.6,\"bill_depth_mm\":17.2},{\"bill_length_mm\":45.8,\"bill_depth_mm\":18.9},{\"bill_length_mm\":35.5,\"bill_depth_mm\":17.5},{\"bill_length_mm\":42.8,\"bill_depth_mm\":18.5},{\"bill_length_mm\":40.9,\"bill_depth_mm\":16.8},{\"bill_length_mm\":37.2,\"bill_depth_mm\":19.4},{\"bill_length_mm\":36.2,\"bill_depth_mm\":16.1},{\"bill_length_mm\":42.1,\"bill_depth_mm\":19.1},{\"bill_length_mm\":34.6,\"bill_depth_mm\":17.2},{\"bill_length_mm\":42.9,\"bill_depth_mm\":17.6},{\"bill_length_mm\":36.7,\"bill_depth_mm\":18.8},{\"bill_length_mm\":35.1,\"bill_depth_mm\":19.4},{\"bill_length_mm\":37.3,\"bill_depth_mm\":17.8},{\"bill_length_mm\":41.3,\"bill_depth_mm\":20.3},{\"bill_length_mm\":36.3,\"bill_depth_mm\":19.5},{\"bill_length_mm\":36.9,\"bill_depth_mm\":18.6},{\"bill_length_mm\":38.3,\"bill_depth_mm\":19.2},{\"bill_length_mm\":38.9,\"bill_depth_mm\":18.8},{\"bill_length_mm\":35.7,\"bill_depth_mm\":18.0},{\"bill_length_mm\":41.1,\"bill_depth_mm\":18.1},{\"bill_length_mm\":34.0,\"bill_depth_mm\":17.1},{\"bill_length_mm\":39.6,\"bill_depth_mm\":18.1},{\"bill_length_mm\":36.2,\"bill_depth_mm\":17.3},{\"bill_length_mm\":40.8,\"bill_depth_mm\":18.9},{\"bill_length_mm\":38.1,\"bill_depth_mm\":18.6},{\"bill_length_mm\":40.3,\"bill_depth_mm\":18.5},{\"bill_length_mm\":33.1,\"bill_depth_mm\":16.1},{\"bill_length_mm\":43.2,\"bill_depth_mm\":18.5},{\"bill_length_mm\":35.0,\"bill_depth_mm\":17.9},{\"bill_length_mm\":41.0,\"bill_depth_mm\":20.0},{\"bill_length_mm\":37.7,\"bill_depth_mm\":16.0},{\"bill_length_mm\":37.8,\"bill_depth_mm\":20.0},{\"bill_length_mm\":37.9,\"bill_depth_mm\":18.6},{\"bill_length_mm\":39.7,\"bill_depth_mm\":18.9},{\"bill_length_mm\":38.6,\"bill_depth_mm\":17.2},{\"bill_length_mm\":38.2,\"bill_depth_mm\":20.0},{\"bill_length_mm\":38.1,\"bill_depth_mm\":17.0},{\"bill_length_mm\":43.2,\"bill_depth_mm\":19.0},{\"bill_length_mm\":38.1,\"bill_depth_mm\":16.5},{\"bill_length_mm\":45.6,\"bill_depth_mm\":20.3},{\"bill_length_mm\":39.7,\"bill_depth_mm\":17.7},{\"bill_length_mm\":42.2,\"bill_depth_mm\":19.5},{\"bill_length_mm\":39.6,\"bill_depth_mm\":20.7},{\"bill_length_mm\":42.7,\"bill_depth_mm\":18.3},{\"bill_length_mm\":38.6,\"bill_depth_mm\":17.0},{\"bill_length_mm\":37.3,\"bill_depth_mm\":20.5},{\"bill_length_mm\":35.7,\"bill_depth_mm\":17.0},{\"bill_length_mm\":41.1,\"bill_depth_mm\":18.6},{\"bill_length_mm\":36.2,\"bill_depth_mm\":17.2},{\"bill_length_mm\":37.7,\"bill_depth_mm\":19.8},{\"bill_length_mm\":40.2,\"bill_depth_mm\":17.0},{\"bill_length_mm\":41.4,\"bill_depth_mm\":18.5},{\"bill_length_mm\":35.2,\"bill_depth_mm\":15.9},{\"bill_length_mm\":40.6,\"bill_depth_mm\":19.0},{\"bill_length_mm\":38.8,\"bill_depth_mm\":17.6},{\"bill_length_mm\":41.5,\"bill_depth_mm\":18.3},{\"bill_length_mm\":39.0,\"bill_depth_mm\":17.1},{\"bill_length_mm\":44.1,\"bill_depth_mm\":18.0},{\"bill_length_mm\":38.5,\"bill_depth_mm\":17.9},{\"bill_length_mm\":43.1,\"bill_depth_mm\":19.2},{\"bill_length_mm\":36.8,\"bill_depth_mm\":18.5},{\"bill_length_mm\":37.5,\"bill_depth_mm\":18.5},{\"bill_length_mm\":38.1,\"bill_depth_mm\":17.6},{\"bill_length_mm\":41.1,\"bill_depth_mm\":17.5},{\"bill_length_mm\":35.6,\"bill_depth_mm\":17.5},{\"bill_length_mm\":40.2,\"bill_depth_mm\":20.1},{\"bill_length_mm\":37.0,\"bill_depth_mm\":16.5},{\"bill_length_mm\":39.7,\"bill_depth_mm\":17.9},{\"bill_length_mm\":40.2,\"bill_depth_mm\":17.1},{\"bill_length_mm\":40.6,\"bill_depth_mm\":17.2},{\"bill_length_mm\":32.1,\"bill_depth_mm\":15.5},{\"bill_length_mm\":40.7,\"bill_depth_mm\":17.0},{\"bill_length_mm\":37.3,\"bill_depth_mm\":16.8},{\"bill_length_mm\":39.0,\"bill_depth_mm\":18.7},{\"bill_length_mm\":39.2,\"bill_depth_mm\":18.6},{\"bill_length_mm\":36.6,\"bill_depth_mm\":18.4},{\"bill_length_mm\":36.0,\"bill_depth_mm\":17.8},{\"bill_length_mm\":37.8,\"bill_depth_mm\":18.1},{\"bill_length_mm\":36.0,\"bill_depth_mm\":17.1},{\"bill_length_mm\":41.5,\"bill_depth_mm\":18.5},{\"bill_length_mm\":46.5,\"bill_depth_mm\":17.9},{\"bill_length_mm\":50.0,\"bill_depth_mm\":19.5},{\"bill_length_mm\":51.3,\"bill_depth_mm\":19.2},{\"bill_length_mm\":45.4,\"bill_depth_mm\":18.7},{\"bill_length_mm\":52.7,\"bill_depth_mm\":19.8},{\"bill_length_mm\":45.2,\"bill_depth_mm\":17.8},{\"bill_length_mm\":46.1,\"bill_depth_mm\":18.2},{\"bill_length_mm\":51.3,\"bill_depth_mm\":18.2},{\"bill_length_mm\":46.0,\"bill_depth_mm\":18.9},{\"bill_length_mm\":51.3,\"bill_depth_mm\":19.9},{\"bill_length_mm\":46.6,\"bill_depth_mm\":17.8},{\"bill_length_mm\":51.7,\"bill_depth_mm\":20.3},{\"bill_length_mm\":47.0,\"bill_depth_mm\":17.3},{\"bill_length_mm\":52.0,\"bill_depth_mm\":18.1},{\"bill_length_mm\":45.9,\"bill_depth_mm\":17.1},{\"bill_length_mm\":50.5,\"bill_depth_mm\":19.6},{\"bill_length_mm\":50.3,\"bill_depth_mm\":20.0},{\"bill_length_mm\":58.0,\"bill_depth_mm\":17.8},{\"bill_length_mm\":46.4,\"bill_depth_mm\":18.6},{\"bill_length_mm\":49.2,\"bill_depth_mm\":18.2},{\"bill_length_mm\":42.4,\"bill_depth_mm\":17.3},{\"bill_length_mm\":48.5,\"bill_depth_mm\":17.5},{\"bill_length_mm\":43.2,\"bill_depth_mm\":16.6},{\"bill_length_mm\":50.6,\"bill_depth_mm\":19.4},{\"bill_length_mm\":46.7,\"bill_depth_mm\":17.9},{\"bill_length_mm\":52.0,\"bill_depth_mm\":19.0},{\"bill_length_mm\":50.5,\"bill_depth_mm\":18.4},{\"bill_length_mm\":49.5,\"bill_depth_mm\":19.0},{\"bill_length_mm\":46.4,\"bill_depth_mm\":17.8},{\"bill_length_mm\":52.8,\"bill_depth_mm\":20.0},{\"bill_length_mm\":40.9,\"bill_depth_mm\":16.6},{\"bill_length_mm\":54.2,\"bill_depth_mm\":20.8},{\"bill_length_mm\":42.5,\"bill_depth_mm\":16.7},{\"bill_length_mm\":51.0,\"bill_depth_mm\":18.8},{\"bill_length_mm\":49.7,\"bill_depth_mm\":18.6},{\"bill_length_mm\":47.5,\"bill_depth_mm\":16.8},{\"bill_length_mm\":47.6,\"bill_depth_mm\":18.3},{\"bill_length_mm\":52.0,\"bill_depth_mm\":20.7},{\"bill_length_mm\":46.9,\"bill_depth_mm\":16.6},{\"bill_length_mm\":53.5,\"bill_depth_mm\":19.9},{\"bill_length_mm\":49.0,\"bill_depth_mm\":19.5},{\"bill_length_mm\":46.2,\"bill_depth_mm\":17.5},{\"bill_length_mm\":50.9,\"bill_depth_mm\":19.1},{\"bill_length_mm\":45.5,\"bill_depth_mm\":17.0},{\"bill_length_mm\":50.9,\"bill_depth_mm\":17.9},{\"bill_length_mm\":50.8,\"bill_depth_mm\":18.5},{\"bill_length_mm\":50.1,\"bill_depth_mm\":17.9},{\"bill_length_mm\":49.0,\"bill_depth_mm\":19.6},{\"bill_length_mm\":51.5,\"bill_depth_mm\":18.7},{\"bill_length_mm\":49.8,\"bill_depth_mm\":17.3},{\"bill_length_mm\":48.1,\"bill_depth_mm\":16.4},{\"bill_length_mm\":51.4,\"bill_depth_mm\":19.0},{\"bill_length_mm\":45.7,\"bill_depth_mm\":17.3},{\"bill_length_mm\":50.7,\"bill_depth_mm\":19.7},{\"bill_length_mm\":42.5,\"bill_depth_mm\":17.3},{\"bill_length_mm\":52.2,\"bill_depth_mm\":18.8},{\"bill_length_mm\":45.2,\"bill_depth_mm\":16.6},{\"bill_length_mm\":49.3,\"bill_depth_mm\":19.9},{\"bill_length_mm\":50.2,\"bill_depth_mm\":18.8},{\"bill_length_mm\":45.6,\"bill_depth_mm\":19.4},{\"bill_length_mm\":51.9,\"bill_depth_mm\":19.5},{\"bill_length_mm\":46.8,\"bill_depth_mm\":16.5},{\"bill_length_mm\":45.7,\"bill_depth_mm\":17.0},{\"bill_length_mm\":55.8,\"bill_depth_mm\":19.8},{\"bill_length_mm\":43.5,\"bill_depth_mm\":18.1},{\"bill_length_mm\":49.6,\"bill_depth_mm\":18.2},{\"bill_length_mm\":50.8,\"bill_depth_mm\":19.0},{\"bill_length_mm\":50.2,\"bill_depth_mm\":18.7},{\"bill_length_mm\":46.1,\"bill_depth_mm\":13.2},{\"bill_length_mm\":50.0,\"bill_depth_mm\":16.3},{\"bill_length_mm\":48.7,\"bill_depth_mm\":14.1},{\"bill_length_mm\":50.0,\"bill_depth_mm\":15.2},{\"bill_length_mm\":47.6,\"bill_depth_mm\":14.5},{\"bill_length_mm\":46.5,\"bill_depth_mm\":13.5},{\"bill_length_mm\":45.4,\"bill_depth_mm\":14.6},{\"bill_length_mm\":46.7,\"bill_depth_mm\":15.3},{\"bill_length_mm\":43.3,\"bill_depth_mm\":13.4},{\"bill_length_mm\":46.8,\"bill_depth_mm\":15.4},{\"bill_length_mm\":40.9,\"bill_depth_mm\":13.7},{\"bill_length_mm\":49.0,\"bill_depth_mm\":16.1},{\"bill_length_mm\":45.5,\"bill_depth_mm\":13.7},{\"bill_length_mm\":48.4,\"bill_depth_mm\":14.6},{\"bill_length_mm\":45.8,\"bill_depth_mm\":14.6},{\"bill_length_mm\":49.3,\"bill_depth_mm\":15.7},{\"bill_length_mm\":42.0,\"bill_depth_mm\":13.5},{\"bill_length_mm\":49.2,\"bill_depth_mm\":15.2},{\"bill_length_mm\":46.2,\"bill_depth_mm\":14.5},{\"bill_length_mm\":48.7,\"bill_depth_mm\":15.1},{\"bill_length_mm\":50.2,\"bill_depth_mm\":14.3},{\"bill_length_mm\":45.1,\"bill_depth_mm\":14.5},{\"bill_length_mm\":46.5,\"bill_depth_mm\":14.5},{\"bill_length_mm\":46.3,\"bill_depth_mm\":15.8},{\"bill_length_mm\":42.9,\"bill_depth_mm\":13.1},{\"bill_length_mm\":46.1,\"bill_depth_mm\":15.1},{\"bill_length_mm\":47.8,\"bill_depth_mm\":15.0},{\"bill_length_mm\":48.2,\"bill_depth_mm\":14.3},{\"bill_length_mm\":50.0,\"bill_depth_mm\":15.3},{\"bill_length_mm\":47.3,\"bill_depth_mm\":15.3},{\"bill_length_mm\":42.8,\"bill_depth_mm\":14.2},{\"bill_length_mm\":45.1,\"bill_depth_mm\":14.5},{\"bill_length_mm\":59.6,\"bill_depth_mm\":17.0},{\"bill_length_mm\":49.1,\"bill_depth_mm\":14.8},{\"bill_length_mm\":48.4,\"bill_depth_mm\":16.3},{\"bill_length_mm\":42.6,\"bill_depth_mm\":13.7},{\"bill_length_mm\":44.4,\"bill_depth_mm\":17.3},{\"bill_length_mm\":44.0,\"bill_depth_mm\":13.6},{\"bill_length_mm\":48.7,\"bill_depth_mm\":15.7},{\"bill_length_mm\":42.7,\"bill_depth_mm\":13.7},{\"bill_length_mm\":49.6,\"bill_depth_mm\":16.0},{\"bill_length_mm\":45.3,\"bill_depth_mm\":13.7},{\"bill_length_mm\":49.6,\"bill_depth_mm\":15.0},{\"bill_length_mm\":50.5,\"bill_depth_mm\":15.9},{\"bill_length_mm\":43.6,\"bill_depth_mm\":13.9},{\"bill_length_mm\":45.5,\"bill_depth_mm\":13.9},{\"bill_length_mm\":50.5,\"bill_depth_mm\":15.9},{\"bill_length_mm\":44.9,\"bill_depth_mm\":13.3},{\"bill_length_mm\":45.2,\"bill_depth_mm\":15.8},{\"bill_length_mm\":46.6,\"bill_depth_mm\":14.2},{\"bill_length_mm\":48.5,\"bill_depth_mm\":14.1},{\"bill_length_mm\":45.1,\"bill_depth_mm\":14.4},{\"bill_length_mm\":50.1,\"bill_depth_mm\":15.0},{\"bill_length_mm\":46.5,\"bill_depth_mm\":14.4},{\"bill_length_mm\":45.0,\"bill_depth_mm\":15.4},{\"bill_length_mm\":43.8,\"bill_depth_mm\":13.9},{\"bill_length_mm\":45.5,\"bill_depth_mm\":15.0},{\"bill_length_mm\":43.2,\"bill_depth_mm\":14.5},{\"bill_length_mm\":50.4,\"bill_depth_mm\":15.3},{\"bill_length_mm\":45.3,\"bill_depth_mm\":13.8},{\"bill_length_mm\":46.2,\"bill_depth_mm\":14.9},{\"bill_length_mm\":45.7,\"bill_depth_mm\":13.9},{\"bill_length_mm\":54.3,\"bill_depth_mm\":15.7},{\"bill_length_mm\":45.8,\"bill_depth_mm\":14.2},{\"bill_length_mm\":49.8,\"bill_depth_mm\":16.8},{\"bill_length_mm\":49.5,\"bill_depth_mm\":16.2},{\"bill_length_mm\":43.5,\"bill_depth_mm\":14.2},{\"bill_length_mm\":50.7,\"bill_depth_mm\":15.0},{\"bill_length_mm\":47.7,\"bill_depth_mm\":15.0},{\"bill_length_mm\":46.4,\"bill_depth_mm\":15.6},{\"bill_length_mm\":48.2,\"bill_depth_mm\":15.6},{\"bill_length_mm\":46.5,\"bill_depth_mm\":14.8},{\"bill_length_mm\":46.4,\"bill_depth_mm\":15.0},{\"bill_length_mm\":48.6,\"bill_depth_mm\":16.0},{\"bill_length_mm\":47.5,\"bill_depth_mm\":14.2},{\"bill_length_mm\":51.1,\"bill_depth_mm\":16.3},{\"bill_length_mm\":45.2,\"bill_depth_mm\":13.8},{\"bill_length_mm\":45.2,\"bill_depth_mm\":16.4},{\"bill_length_mm\":49.1,\"bill_depth_mm\":14.5},{\"bill_length_mm\":52.5,\"bill_depth_mm\":15.6},{\"bill_length_mm\":47.4,\"bill_depth_mm\":14.6},{\"bill_length_mm\":50.0,\"bill_depth_mm\":15.9},{\"bill_length_mm\":44.9,\"bill_depth_mm\":13.8},{\"bill_length_mm\":50.8,\"bill_depth_mm\":17.3},{\"bill_length_mm\":43.4,\"bill_depth_mm\":14.4},{\"bill_length_mm\":51.3,\"bill_depth_mm\":14.2},{\"bill_length_mm\":47.5,\"bill_depth_mm\":14.0},{\"bill_length_mm\":52.1,\"bill_depth_mm\":17.0},{\"bill_length_mm\":47.5,\"bill_depth_mm\":15.0},{\"bill_length_mm\":52.2,\"bill_depth_mm\":17.1},{\"bill_length_mm\":45.5,\"bill_depth_mm\":14.5},{\"bill_length_mm\":49.5,\"bill_depth_mm\":16.1},{\"bill_length_mm\":44.5,\"bill_depth_mm\":14.7},{\"bill_length_mm\":50.8,\"bill_depth_mm\":15.7},{\"bill_length_mm\":49.4,\"bill_depth_mm\":15.8},{\"bill_length_mm\":46.9,\"bill_depth_mm\":14.6},{\"bill_length_mm\":48.4,\"bill_depth_mm\":14.4},{\"bill_length_mm\":51.1,\"bill_depth_mm\":16.5},{\"bill_length_mm\":48.5,\"bill_depth_mm\":15.0},{\"bill_length_mm\":55.9,\"bill_depth_mm\":17.0},{\"bill_length_mm\":47.2,\"bill_depth_mm\":15.5},{\"bill_length_mm\":49.1,\"bill_depth_mm\":15.0},{\"bill_length_mm\":46.8,\"bill_depth_mm\":16.1},{\"bill_length_mm\":41.7,\"bill_depth_mm\":14.7},{\"bill_length_mm\":53.4,\"bill_depth_mm\":15.8},{\"bill_length_mm\":43.3,\"bill_depth_mm\":14.0},{\"bill_length_mm\":48.1,\"bill_depth_mm\":15.1},{\"bill_length_mm\":50.5,\"bill_depth_mm\":15.2},{\"bill_length_mm\":49.8,\"bill_depth_mm\":15.9},{\"bill_length_mm\":43.5,\"bill_depth_mm\":15.2},{\"bill_length_mm\":51.5,\"bill_depth_mm\":16.3},{\"bill_length_mm\":46.2,\"bill_depth_mm\":14.1},{\"bill_length_mm\":55.1,\"bill_depth_mm\":16.0},{\"bill_length_mm\":48.8,\"bill_depth_mm\":16.2},{\"bill_length_mm\":47.2,\"bill_depth_mm\":13.7},{\"bill_length_mm\":46.8,\"bill_depth_mm\":14.3},{\"bill_length_mm\":50.4,\"bill_depth_mm\":15.7},{\"bill_length_mm\":45.2,\"bill_depth_mm\":14.8},{\"bill_length_mm\":49.9,\"bill_depth_mm\":16.1}]'"
      ]
     },
     "execution_count": 40,
     "metadata": {},
     "output_type": "execute_result"
    }
   ],
   "source": [
    "matrix.to_json(orient='records')"
   ]
  },
  {
   "cell_type": "markdown",
   "metadata": {},
   "source": [
    "## Code for single sliding window"
   ]
  },
  {
   "cell_type": "code",
   "execution_count": 14,
   "metadata": {},
   "outputs": [],
   "source": [
    "import sys\n",
    "correlation = []\n",
    "variance = []\n",
    "skewness = []\n",
    "for x in range(len(x_pts)):\n",
    "    cur_pts = np.where((scatter.bill_length_mm >= x_pts[x]) & \n",
    "                (scatter.bill_length_mm <= x_pts[x]+window_size))\n",
    "\n",
    "    if len(cur_pts[0]) > 0:\n",
    "        data = scatter.iloc[cur_pts]\n",
    "        matrix = data[['bill_length_mm', 'bill_depth_mm']]\n",
    "        correlation.append([x_pts[x], matrix.corr()['bill_length_mm']['bill_depth_mm']])\n",
    "        variance.append([x_pts[x], np.cov(matrix.T)[0,1]])\n",
    "        skewness.append([x_pts[x], scipy.stats.skew(matrix)[0]])"
   ]
  },
  {
   "cell_type": "markdown",
   "metadata": {},
   "source": [
    "### Dasgupta Code"
   ]
  },
  {
   "cell_type": "code",
   "execution_count": 49,
   "metadata": {},
   "outputs": [],
   "source": [
    "from itertools import combinations\n",
    "def getCrossingData(dimensions):\n",
    "    # dimensions = ['bill_length_mm', 'bill_depth_mm']\n",
    "    crossings = 0\n",
    "    crossing_data = []\n",
    "    data_points = []\n",
    "    for pair in combinations(scatter.index, 2):\n",
    "        if ((scatter.loc[pair[0]][dimensions[0]] < scatter.loc[pair[1]][dimensions[0]] and \n",
    "             scatter.loc[pair[0]][dimensions[1]] > scatter.loc[pair[1]][dimensions[1]]) or \n",
    "            (scatter.loc[pair[0]][dimensions[0]] > scatter.loc[pair[1]][dimensions[0]] and \n",
    "             scatter.loc[pair[0]][dimensions[1]] < scatter.loc[pair[1]][dimensions[1]])):\n",
    "                crossings += 1\n",
    "                crossing_data.append(pair);\n",
    "    return crossing_data"
   ]
  },
  {
   "cell_type": "code",
   "execution_count": null,
   "metadata": {},
   "outputs": [],
   "source": [
    "crossing_data = getCrossingData(dimensions)"
   ]
  },
  {
   "cell_type": "code",
   "execution_count": 59,
   "metadata": {},
   "outputs": [],
   "source": [
    "# Get Crossing Angles between two dimensions\n",
    "import math, statistics\n",
    "def getCrossingAngles(crossing_data, dimensions):\n",
    "    # dimensions = ['bill_length_mm', 'bill_depth_mm']\n",
    "    # crossing_data = getCrossingData(dimensions)\n",
    "    crossing_angles = []\n",
    "    if len(crossing_data) != 0:\n",
    "        for pt1, pt2 in crossing_data:\n",
    "            data_a = scatter.loc[pt1]\n",
    "            data_b = scatter.loc[pt2]\n",
    "            slope_a = 0\n",
    "            slope_b = 0\n",
    "            if data_a[dimensions[0]] != data_a[dimensions[1]]:\n",
    "                slope_a = data_a[dimensions[1]] - data_a[dimensions[0]] \n",
    "            if data_b[dimensions[0]] != data_b[dimensions[1]]:\n",
    "                slope_b = data_b[dimensions[1]] - data_b[dimensions[0]]\n",
    "\n",
    "            tan = math.atan((slope_a - slope_b) / (1+slope_a*slope_b))/math.pi*180\n",
    "            crossing_angles.append(min(tan, 90-tan))\n",
    "    return statistics.median(crossing_angles)"
   ]
  },
  {
   "cell_type": "code",
   "execution_count": 83,
   "metadata": {},
   "outputs": [],
   "source": [
    "# Parallelism \n",
    "from scipy import stats\n",
    "from sklearn.preprocessing import minmax_scale\n",
    "def getParallelism(dimensions):\n",
    "    para = []\n",
    "    for id in scatter.index:\n",
    "        para.append(scatter.loc[id][dimensions[1]] - scatter.loc[id][dimensions[0]])\n",
    "    para = minmax_scale(para)\n",
    "    return 1-stats.iqr(para)"
   ]
  },
  {
   "cell_type": "code",
   "execution_count": 86,
   "metadata": {},
   "outputs": [],
   "source": [
    "# 1D histogram\n",
    "import numpy as np\n",
    "dim1_hist = np.histogram(scatter.bill_length_mm, bins=256)"
   ]
  },
  {
   "cell_type": "code",
   "execution_count": 88,
   "metadata": {},
   "outputs": [],
   "source": [
    "dim2_hist = np.histogram(scatter.bill_depth_mm, bins=256)"
   ]
  },
  {
   "cell_type": "code",
   "execution_count": 89,
   "metadata": {},
   "outputs": [],
   "source": [
    "# 2d histograms"
   ]
  },
  {
   "cell_type": "code",
   "execution_count": 126,
   "metadata": {},
   "outputs": [],
   "source": [
    "bi_hist, xed, yed = np.histogram2d(scatter.bill_length_mm, scatter.bill_depth_mm, bins=256)"
   ]
  },
  {
   "cell_type": "code",
   "execution_count": 133,
   "metadata": {},
   "outputs": [],
   "source": [
    "# Get bin indices given a range\n",
    "xst = 34\n",
    "window = 4"
   ]
  },
  {
   "cell_type": "code",
   "execution_count": 145,
   "metadata": {},
   "outputs": [
    {
     "data": {
      "text/plain": [
       "257"
      ]
     },
     "execution_count": 145,
     "metadata": {},
     "output_type": "execute_result"
    }
   ],
   "source": []
  },
  {
   "cell_type": "code",
   "execution_count": 134,
   "metadata": {},
   "outputs": [],
   "source": [
    "xbin_ids = np.where(np.logical_and(xed>=xst, xed<=xst+window))"
   ]
  },
  {
   "cell_type": "code",
   "execution_count": 106,
   "metadata": {},
   "outputs": [],
   "source": [
    "# Overplotting\n",
    "overplot = (bi_hist > 1).sum()"
   ]
  },
  {
   "cell_type": "code",
   "execution_count": 110,
   "metadata": {},
   "outputs": [],
   "source": [
    "unique_vals, counts = np.unique(bi_hist, return_counts=True)"
   ]
  },
  {
   "cell_type": "code",
   "execution_count": 111,
   "metadata": {},
   "outputs": [],
   "source": [
    "overplot = 0\n",
    "for i in range(2,len(unique_vals)):\n",
    "    overplot += counts[i]*unique_vals[i]"
   ]
  },
  {
   "cell_type": "code",
   "execution_count": 113,
   "metadata": {},
   "outputs": [],
   "source": [
    "overplot_norm = 2*overplot/(len(scatter.bill_length_mm)*len(scatter.bill_length_mm)-1)"
   ]
  },
  {
   "cell_type": "code",
   "execution_count": 114,
   "metadata": {},
   "outputs": [
    {
     "data": {
      "text/plain": [
       "0.00014428973378544116"
      ]
     },
     "execution_count": 114,
     "metadata": {},
     "output_type": "execute_result"
    }
   ],
   "source": [
    "overplot_norm"
   ]
  },
  {
   "cell_type": "code",
   "execution_count": 115,
   "metadata": {},
   "outputs": [],
   "source": [
    "# Convergence (Lower the better)"
   ]
  },
  {
   "cell_type": "code",
   "execution_count": 139,
   "metadata": {},
   "outputs": [],
   "source": [
    "cur_data = bi_hist[xbin_ids,:]"
   ]
  },
  {
   "cell_type": "code",
   "execution_count": 121,
   "metadata": {},
   "outputs": [
    {
     "data": {
      "text/plain": [
       "2.0"
      ]
     },
     "execution_count": 121,
     "metadata": {},
     "output_type": "execute_result"
    }
   ],
   "source": [
    "bi_hist.max()"
   ]
  },
  {
   "cell_type": "code",
   "execution_count": 142,
   "metadata": {},
   "outputs": [],
   "source": [
    "convergence = (cur_data > 0).sum()"
   ]
  },
  {
   "cell_type": "code",
   "execution_count": 143,
   "metadata": {},
   "outputs": [
    {
     "data": {
      "text/plain": [
       "52"
      ]
     },
     "execution_count": 143,
     "metadata": {},
     "output_type": "execute_result"
    }
   ],
   "source": [
    "convergence"
   ]
  },
  {
   "cell_type": "code",
   "execution_count": null,
   "metadata": {},
   "outputs": [],
   "source": []
  },
  {
   "cell_type": "code",
   "execution_count": null,
   "metadata": {},
   "outputs": [],
   "source": []
  },
  {
   "cell_type": "markdown",
   "metadata": {},
   "source": [
    "## Code for double sliding window\n",
    "- Window x slides\n",
    "- Window y slides\n",
    "- Calculate 2D and marginal properties on these two sliding windows simultaneously"
   ]
  },
  {
   "cell_type": "code",
   "execution_count": null,
   "metadata": {
    "scrolled": true
   },
   "outputs": [
    {
     "data": {
      "application/vnd.jupyter.widget-view+json": {
       "model_id": "1001747585d8476299bf2d05a48f3aaa",
       "version_major": 2,
       "version_minor": 0
      },
      "text/plain": [
       "  0%|          | 0/10 [00:00<?, ?it/s]"
      ]
     },
     "metadata": {},
     "output_type": "display_data"
    }
   ],
   "source": [
    "import sys\n",
    "results = {}\n",
    "for x in tqdm(range(len(x_pts))):\n",
    "    for y in range(len(y_pts)):\n",
    "        for wx in x_windows:\n",
    "            for wy in y_windows:\n",
    "                # Choosing the points in that grid\n",
    "                cur_pts = np.where((scatter.bill_length_mm >= x_pts[x]) & \n",
    "                            (scatter.bill_length_mm <= x_pts[x]+wx) &\n",
    "                            (scatter.bill_depth_mm >= y_pts[y]) &\n",
    "                            (scatter.bill_depth_mm <= y_pts[y]+wy)\n",
    "                           )\n",
    "                \n",
    "                if len(cur_pts[0]) > 0:\n",
    "                    # For current grid, get the best labels for 2d and marginal clusters\n",
    "                    labels_2d, labels_x, labels_y, best_2d, best_x, best_y = get_best_cluster_labels(cur_pts)\n",
    "                    correlation, variance, skewness = 0,0,0\n",
    "                    neigh, split_up, fan = False, False, False\n",
    "                    # Assign 2d and marginal ids to each point in the current sliding window\n",
    "                    for i, ids in enumerate(cur_pts):\n",
    "                        scatter.labels_2d.iloc[ids] = labels_2d[i]\n",
    "                        scatter.labels_x.iloc[ids] = labels_x[i]\n",
    "                        scatter.labels_y.iloc[ids] = labels_y[i]\n",
    "#                     data_sub = scatter.loc[cur_pts]\n",
    "                    data = scatter.iloc[cur_pts]\n",
    "                    matrix = data[['bill_length_mm', 'bill_depth_mm']]\n",
    "#                     print(data)\n",
    "#                     sys.exit()\n",
    "                    # Calculate 2d props for points in current window\n",
    "#                     for cl_2d in range(best_2d):\n",
    "#                         pts_2d = data[data['labels_2d'] == cl_2d][['bill_length_mm', 'bill_depth_mm']]\n",
    "                    correlation = matrix.corr()\n",
    "                    correlation = correlation['bill_length_mm']['bill_depth_mm']\n",
    "                    variance = np.cov(matrix.T)[0,1]\n",
    "                    skewness = scipy.stats.skew(matrix)\n",
    "                    results[x,y,wx,wy,'corr'] = correlation\n",
    "                    results[x,y,wx,wy,'var'] = variance\n",
    "                    results[x,y,wx,wy,'skew'] = skewness\n",
    "#                         for ids in pts_2d.index:\n",
    "#                             scatter.correlation.loc[ids] = correlation\n",
    "#                             scatter.skewness.loc[ids] = skewness[0]\n",
    "#                             scatter.variance.loc[ids] = variance\n",
    "\n",
    "                    # For every x and y cluster, calculate marginal props\n",
    "                    for cl_x in range(best_x):\n",
    "                        cur_clx_data = data[data['labels_x'] == cl_x][['bill_length_mm']]\n",
    "                        for cl_y in range(best_y):\n",
    "                            cur_cly_data = data[data['labels_y'] == cl_y][['bill_depth_mm']]\n",
    "                            #  print(list(cur_clx_data.index))\n",
    "                            neigh = neighborhood(cur_clx_data.index, cur_cly_data.index)\n",
    "                            # Count the number of unique clusters in y coming from x      \n",
    "                        split_up_count = np.unique(data[['labels_y']].loc[cur_clx_data.index])\n",
    "                        split_up = False\n",
    "                        if split_up_count > 1:\n",
    "                            split_up = True\n",
    "                        fan  = (len(cur_clx_data) == len(np.unique(data[['labels_y']].loc[cur_clx_data.index])))\n",
    "                        results[x,y,wx,wy,'neigh'] = neigh\n",
    "                        results[x,y,wx,wy,'split'] = split_up\n",
    "                        results[x,y,wx,wy,'fan'] = fan\n",
    "#                         for ids in cur_clx_data.index:\n",
    "#                             scatter.neigh.loc[ids] = neigh\n",
    "#                             scatter.split_up.loc[ids] = split_up\n",
    "#         \n",
    "\n",
    "\n",
    "\n",
    "\n",
    "scatter.fan.loc[ids] = fan\n",
    "                    "
   ]
  },
  {
   "cell_type": "code",
   "execution_count": 69,
   "metadata": {},
   "outputs": [],
   "source": [
    "scatter.correlation[scatter.correlation > 0.25] = True\n",
    "scatter.correlation[scatter.correlation < -0.25] = True"
   ]
  },
  {
   "cell_type": "code",
   "execution_count": 70,
   "metadata": {},
   "outputs": [],
   "source": [
    "scatter.correlation[scatter.correlation != True] = False"
   ]
  },
  {
   "cell_type": "code",
   "execution_count": 71,
   "metadata": {},
   "outputs": [],
   "source": [
    "scatter.variance[scatter.variance > scatter.variance.mean()] = True\n",
    "scatter.variance[scatter.variance <= scatter.variance.mean()] = False"
   ]
  },
  {
   "cell_type": "code",
   "execution_count": 38,
   "metadata": {},
   "outputs": [],
   "source": [
    "scatter.skewness[scatter.skewness > 0.25] = True\n",
    "scatter.skewness[scatter.skewness < -0.25] = True"
   ]
  },
  {
   "cell_type": "code",
   "execution_count": 39,
   "metadata": {},
   "outputs": [],
   "source": [
    "scatter.skewness[scatter.skewness != True] = False"
   ]
  },
  {
   "cell_type": "code",
   "execution_count": 41,
   "metadata": {},
   "outputs": [],
   "source": [
    "numerics = ['int16', 'int32', 'int64', 'float16', 'float32', 'float64']"
   ]
  },
  {
   "cell_type": "code",
   "execution_count": 43,
   "metadata": {},
   "outputs": [
    {
     "data": {
      "text/plain": [
       "bill_length_mm    float64\n",
       "bill_depth_mm     float64\n",
       "labels_2d           int64\n",
       "labels_x            int64\n",
       "labels_y            int64\n",
       "correlation        object\n",
       "variance           object\n",
       "skewness           object\n",
       "neigh                bool\n",
       "split_up             bool\n",
       "fan                  bool\n",
       "dtype: object"
      ]
     },
     "execution_count": 43,
     "metadata": {},
     "output_type": "execute_result"
    }
   ],
   "source": [
    "scatter.dtypes"
   ]
  },
  {
   "cell_type": "code",
   "execution_count": 48,
   "metadata": {},
   "outputs": [],
   "source": [
    "scatter_final = scatter[['bill_length_mm', 'bill_depth_mm', 'correlation', 'variance', 'skewness', 'neigh', 'split_up', 'fan']]"
   ]
  },
  {
   "cell_type": "code",
   "execution_count": 50,
   "metadata": {},
   "outputs": [],
   "source": [
    "scatter_final.to_csv('penguins_num.csv')"
   ]
  },
  {
   "cell_type": "code",
   "execution_count": 43,
   "metadata": {},
   "outputs": [],
   "source": [
    "[start, end] = [55.32872295785457, 56.34838539894591]"
   ]
  },
  {
   "cell_type": "code",
   "execution_count": 44,
   "metadata": {},
   "outputs": [],
   "source": [
    "cur_pts = np.where((scatter.bill_length_mm >= start) & \n",
    "                            (scatter.bill_length_mm <= end)\n",
    "                           )"
   ]
  },
  {
   "cell_type": "code",
   "execution_count": 45,
   "metadata": {},
   "outputs": [],
   "source": [
    "subset = scatter.iloc[cur_pts]"
   ]
  },
  {
   "cell_type": "code",
   "execution_count": 53,
   "metadata": {},
   "outputs": [
    {
     "data": {
      "text/plain": [
       "'[39.1, 39.5, 40.3, 36.7, 39.3, 38.9, 39.2, 41.1, 38.6, 34.6, 36.6, 38.7, 42.5, 34.4, 46.0, 37.8, 37.7, 35.9, 38.2, 38.8, 35.3, 40.6, 40.5, 37.9, 40.5, 39.5, 37.2, 39.5, 40.9, 36.4, 39.2, 38.8, 42.2, 37.6, 39.8, 36.5, 40.8, 36.0, 44.1, 37.0, 39.6, 41.1, 36.0, 42.3, 39.6, 40.1, 35.0, 42.0, 34.5, 41.4, 39.0, 40.6, 36.5, 37.6, 35.7, 41.3, 37.6, 41.1, 36.4, 41.6, 35.5, 41.1, 35.9, 41.8, 33.5, 39.7, 39.6, 45.8, 35.5, 42.8, 40.9, 37.2, 36.2, 42.1, 34.6, 42.9, 36.7, 35.1, 37.3, 41.3, 36.3, 36.9, 38.3, 38.9, 35.7, 41.1, 34.0, 39.6, 36.2, 40.8, 38.1, 40.3, 33.1, 43.2, 35.0, 41.0, 37.7, 37.8, 37.9, 39.7, 38.6, 38.2, 38.1, 43.2, 38.1, 45.6, 39.7, 42.2, 39.6, 42.7, 38.6, 37.3, 35.7, 41.1, 36.2, 37.7, 40.2, 41.4, 35.2, 40.6, 38.8, 41.5, 39.0, 44.1, 38.5, 43.1, 36.8, 37.5, 38.1, 41.1, 35.6, 40.2, 37.0, 39.7, 40.2, 40.6, 32.1, 40.7, 37.3, 39.0, 39.2, 36.6, 36.0, 37.8, 36.0, 41.5, 46.5, 50.0, 51.3, 45.4, 52.7, 45.2, 46.1, 51.3, 46.0, 51.3, 46.6, 51.7, 47.0, 52.0, 45.9, 50.5, 50.3, 58.0, 46.4, 49.2, 42.4, 48.5, 43.2, 50.6, 46.7, 52.0, 50.5, 49.5, 46.4, 52.8, 40.9, 54.2, 42.5, 51.0, 49.7, 47.5, 47.6, 52.0, 46.9, 53.5, 49.0, 46.2, 50.9, 45.5, 50.9, 50.8, 50.1, 49.0, 51.5, 49.8, 48.1, 51.4, 45.7, 50.7, 42.5, 52.2, 45.2, 49.3, 50.2, 45.6, 51.9, 46.8, 45.7, 55.8, 43.5, 49.6, 50.8, 50.2, 46.1, 50.0, 48.7, 50.0, 47.6, 46.5, 45.4, 46.7, 43.3, 46.8, 40.9, 49.0, 45.5, 48.4, 45.8, 49.3, 42.0, 49.2, 46.2, 48.7, 50.2, 45.1, 46.5, 46.3, 42.9, 46.1, 47.8, 48.2, 50.0, 47.3, 42.8, 45.1, 59.6, 49.1, 48.4, 42.6, 44.4, 44.0, 48.7, 42.7, 49.6, 45.3, 49.6, 50.5, 43.6, 45.5, 50.5, 44.9, 45.2, 46.6, 48.5, 45.1, 50.1, 46.5, 45.0, 43.8, 45.5, 43.2, 50.4, 45.3, 46.2, 45.7, 54.3, 45.8, 49.8, 49.5, 43.5, 50.7, 47.7, 46.4, 48.2, 46.5, 46.4, 48.6, 47.5, 51.1, 45.2, 45.2, 49.1, 52.5, 47.4, 50.0, 44.9, 50.8, 43.4, 51.3, 47.5, 52.1, 47.5, 52.2, 45.5, 49.5, 44.5, 50.8, 49.4, 46.9, 48.4, 51.1, 48.5, 55.9, 47.2, 49.1, 46.8, 41.7, 53.4, 43.3, 48.1, 50.5, 49.8, 43.5, 51.5, 46.2, 55.1, 48.8, 47.2, 46.8, 50.4, 45.2, 49.9]'"
      ]
     },
     "execution_count": 53,
     "metadata": {},
     "output_type": "execute_result"
    }
   ],
   "source": [
    "json.dumps(list(scatter['bill_length_mm']))"
   ]
  },
  {
   "cell_type": "code",
   "execution_count": null,
   "metadata": {},
   "outputs": [],
   "source": []
  }
 ],
 "metadata": {
  "kernelspec": {
   "display_name": "Python 3 (ipykernel)",
   "language": "python",
   "name": "python3"
  },
  "language_info": {
   "codemirror_mode": {
    "name": "ipython",
    "version": 3
   },
   "file_extension": ".py",
   "mimetype": "text/x-python",
   "name": "python",
   "nbconvert_exporter": "python",
   "pygments_lexer": "ipython3",
   "version": "3.9.7"
  }
 },
 "nbformat": 4,
 "nbformat_minor": 4
}
